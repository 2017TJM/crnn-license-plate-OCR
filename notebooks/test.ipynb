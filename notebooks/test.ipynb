{
 "cells": [
  {
   "cell_type": "code",
   "execution_count": 1,
   "metadata": {},
   "outputs": [],
   "source": [
    "import lpr_model\n",
    "import os\n",
    "import pickle \n",
    "import pandas as pd\n",
    "import editdistance\n",
    "from sklearn.metrics import accuracy_score\n",
    "import matplotlib.pyplot as plt"
   ]
  },
  {
   "cell_type": "code",
   "execution_count": 13,
   "metadata": {},
   "outputs": [],
   "source": [
    "DATA_PATH = 'data/testset'"
   ]
  },
  {
   "cell_type": "code",
   "execution_count": 16,
   "metadata": {},
   "outputs": [],
   "source": [
    "lpr = lpr_model.EAST_CRNN()\n",
    "lpr.load(east_path=\"model_weights/frozen_east_text_detection.pb\",\n",
    "         crnn_path=\"model_weights/CRNN30.pth\")"
   ]
  },
  {
   "cell_type": "markdown",
   "metadata": {},
   "source": [
    "***"
   ]
  },
  {
   "cell_type": "code",
   "execution_count": 17,
   "metadata": {},
   "outputs": [
    {
     "name": "stdout",
     "output_type": "stream",
     "text": [
      "                   path   gTruth      pred editDistance\n",
      "0     015524_VA4465.jpg   VA4465    VA4465            0\n",
      "1    013028_WXH5431.jpg  WXH5431   WXH5431            0\n",
      "2    010159_BPF7684.jpg  BPF7684   BPF7684            0\n",
      "3    011637_WVU2019.jpg  WVU2019   WVU2019            0\n",
      "4    010108_JKP3153.jpg  JKP3153   JKP3153            0\n",
      "5    016049_VCT3940.jpg  VCT3940   VCT3940            0\n",
      "6    011115_AHX6805.jpg  AHX6805   AHX6805            0\n",
      "7    019014_BCF3813.jpg  BCF3813   BCF3813            0\n",
      "8    019315_BNA9237.jpg  BNA9237   BNA9237            0\n",
      "9    011993_VBM3459.jpg  VBM3459   VBM3459            0\n",
      "10   013483_WQL8067.jpg  WQL8067    QL8057            2\n",
      "11   017159_BGB2563.jpg  BGB2563   BGB2563            0\n",
      "12   018618_WRC1604.jpg  WRC1604   WRQ1604            1\n",
      "13   013324_WB9440Q.jpg  WB9440Q   BB9440Q            1\n",
      "14   014710_BHG7859.jpg  BHG7859   BHG7859            0\n",
      "15   014758_QTP2364.jpg  QTP2364   QTP2364            0\n",
      "16   019451_WWW1471.jpg  WWW1471   WWW1471            0\n",
      "17   016482_WHS7758.jpg  WHS7758   WHS7758            0\n",
      "18   019852_VCG7657.jpg  VCG7657   WLG7657            2\n",
      "19    000153_VBA929.jpg   VBA929   VBA5929            1\n",
      "20   011924_BMM5232.jpg  BMM5232   BMM5232            0\n",
      "21   014761_AHX3922.jpg  AHX3922   AHX3922            0\n",
      "22   015965_BPU6696.jpg  BPU6696   BPU6696            0\n",
      "23   011575_WWC2893.jpg  WWC2893   WWC2893            0\n",
      "24    016198_W4100S.jpg   W4100S    W4100S            0\n",
      "25   000620_VBN7799.jpg  VBN7799   VBN7799            0\n",
      "26   017122_VBB2850.jpg  VBB2850   VBB2850            0\n",
      "27   019940_CBB6913.jpg  CBB6913   CBB6913            0\n",
      "28     016817_WHD95.jpg    WHD95     WHD95            0\n",
      "29   012691_BKR7213.jpg  BKR7213   BKR7213            0\n",
      "..                  ...      ...       ...          ...\n",
      "970  011328_WCD4540.jpg  WCD4540   WCD4540            0\n",
      "971  019105_WPM5151.jpg  WPM5151   WPM5151            0\n",
      "972  014570_PGN8508.jpg  PGN8508  PGN88508            1\n",
      "973  011364_WWD3703.jpg  WWD3703   WVD3703            1\n",
      "974  013056_BJM3199.jpg  BJM3199   BJM3199            0\n",
      "975  016239_WUK8682.jpg  WUK8682   WUK8682            0\n",
      "976   016309_WSC711.jpg   WSC711    WSC711            0\n",
      "977  019483_WTE4802.jpg  WTE4802   WTE4802            0\n",
      "978  010858_VCM5044.jpg  VCM5044   VCM5044            0\n",
      "979  016829_WB2451K.jpg  WB2451K   WB2451K            0\n",
      "980  000015_WSQ2810.jpg  WSQ2810   WSQ2810            0\n",
      "981  016393_WYR3317.jpg  WYR3317  WYR33317            1\n",
      "982  018241_BGS1191.jpg  BGS1191   BGS1191            0\n",
      "983  000266_PEM8600.jpg  PEM8600   PEM8600            0\n",
      "984  014717_BKQ3363.jpg  BKQ3363   BKQ3363            0\n",
      "985  014285_BNK6669.jpg  BNK6669   BNK6669            0\n",
      "986   018531_BPC269.jpg   BPC269    BPG269            1\n",
      "987  019062_WRS7546.jpg  WRS7546   WRS7546            0\n",
      "988  000538_AHH4244.jpg  AHH4244   AHH4244            0\n",
      "989    019323_BKD89.jpg    BKD89     BKD89            0\n",
      "990  012825_JMW2016.jpg  JMW2016   JMW2016            0\n",
      "991  016063_PKF7410.jpg  PKF7410   PKF7410            0\n",
      "992  019500_AEY1513.jpg  AEY1513   AEY1513            0\n",
      "993   000012_VCY202.jpg   VCY202    WCY202            1\n",
      "994  000603_AJL3422.jpg  AJL3422   AJL3422            0\n",
      "995  016133_WYT6426.jpg  WYT6426   WYT6426            0\n",
      "996  019983_WVR2491.jpg  WVR2491   WVR2491            0\n",
      "997  015157_VCA7288.jpg  VCA7288   VCA7288            0\n",
      "998  016264_WKX7256.jpg  WKX7256   WKX7256            0\n",
      "999   016227_AKG647.jpg   AKG647    AKG647            0\n",
      "\n",
      "[1000 rows x 4 columns]\n",
      "\n",
      "\n",
      "Accuracy: 0.862\n",
      "\n",
      "\n"
     ]
    },
    {
     "data": {
      "image/png": "[encoded data removed]",
      "text/plain": [
       "<Figure size 1080x720 with 1 Axes>"
      ]
     },
     "metadata": {
      "needs_background": "light"
     },
     "output_type": "display_data"
    }
   ],
   "source": [
    "result = pd.DataFrame([], columns=['path', 'gTruth', 'pred', 'editDistance'])\n",
    "\n",
    "for file in os.listdir(DATA_PATH):\n",
    "    if file != '.ipynb_checkpoints':\n",
    "        \n",
    "        # ground truth\n",
    "        filename, file_extension = os.path.splitext(file)\n",
    "        gt = filename.split('_')[-1]\n",
    "        \n",
    "        # prediction\n",
    "        pred = lpr.predict(os.path.join(DATA_PATH, file))\n",
    "        \n",
    "        # distance\n",
    "        dist = editdistance.eval(gt, pred)\n",
    "        \n",
    "        result = result.append({'path': file,\n",
    "                                'gTruth': gt,\n",
    "                                'pred': pred,\n",
    "#                                 'conf': pred[1],\n",
    "                                'editDistance': dist}, ignore_index=True)\n",
    "\n",
    "# print results, accuracy, plot\n",
    "print(result)\n",
    "print('\\n')\n",
    "print(\"Accuracy:\", accuracy_score(result.gTruth, result.pred))\n",
    "print('\\n')\n",
    "\n",
    "print(results.editDistance.value_counts(sort=False))\n",
    "# freq = result.editDistance.value_counts(sort=False)\n",
    "# freq.plot(kind='bar', title='editDistance', figsize=(15, 10))\n",
    "# plt.show()"
   ]
  },
  {
   "cell_type": "markdown",
   "metadata": {},
   "source": [
    "Predictions With Edit Distance Larger than 2"
   ]
  },
  {
   "cell_type": "code",
   "execution_count": 9,
   "metadata": {},
   "outputs": [
    {
     "data": {
      "text/html": [
       "<div>\n",
       "<style scoped>\n",
       "    .dataframe tbody tr th:only-of-type {\n",
       "        vertical-align: middle;\n",
       "    }\n",
       "\n",
       "    .dataframe tbody tr th {\n",
       "        vertical-align: top;\n",
       "    }\n",
       "\n",
       "    .dataframe thead th {\n",
       "        text-align: right;\n",
       "    }\n",
       "</style>\n",
       "<table border=\"1\" class=\"dataframe\">\n",
       "  <thead>\n",
       "    <tr style=\"text-align: right;\">\n",
       "      <th></th>\n",
       "      <th>gTruth</th>\n",
       "      <th>pred</th>\n",
       "    </tr>\n",
       "  </thead>\n",
       "  <tbody>\n",
       "    <tr>\n",
       "      <th>6</th>\n",
       "      <td>PUTRAJAYA999</td>\n",
       "      <td>PTR04W999</td>\n",
       "    </tr>\n",
       "    <tr>\n",
       "      <th>19</th>\n",
       "      <td>PUTRAJAYA999</td>\n",
       "      <td>WT8J1999</td>\n",
       "    </tr>\n",
       "    <tr>\n",
       "      <th>27</th>\n",
       "      <td>CXC6666</td>\n",
       "      <td>C6666CXC6</td>\n",
       "    </tr>\n",
       "    <tr>\n",
       "      <th>32</th>\n",
       "      <td>BXB8</td>\n",
       "      <td>BXB840</td>\n",
       "    </tr>\n",
       "    <tr>\n",
       "      <th>35</th>\n",
       "      <td>XOCZ9898</td>\n",
       "      <td>XDC229898</td>\n",
       "    </tr>\n",
       "    <tr>\n",
       "      <th>47</th>\n",
       "      <td>PUTRAJAYA999</td>\n",
       "      <td>WTRA1999</td>\n",
       "    </tr>\n",
       "    <tr>\n",
       "      <th>48</th>\n",
       "      <td>XOCZ9898</td>\n",
       "      <td>X0C29898</td>\n",
       "    </tr>\n",
       "    <tr>\n",
       "      <th>56</th>\n",
       "      <td>PUTRAJAYA999</td>\n",
       "      <td>WRU44999</td>\n",
       "    </tr>\n",
       "    <tr>\n",
       "      <th>57</th>\n",
       "      <td>XOCZ9898</td>\n",
       "      <td>V898XDC75</td>\n",
       "    </tr>\n",
       "    <tr>\n",
       "      <th>65</th>\n",
       "      <td>XOCZ9898</td>\n",
       "      <td>X0C29898</td>\n",
       "    </tr>\n",
       "    <tr>\n",
       "      <th>86</th>\n",
       "      <td>FFA9494</td>\n",
       "      <td>FFA3434</td>\n",
       "    </tr>\n",
       "    <tr>\n",
       "      <th>93</th>\n",
       "      <td>XOCZ9898</td>\n",
       "      <td>KDCC9898</td>\n",
       "    </tr>\n",
       "    <tr>\n",
       "      <th>119</th>\n",
       "      <td>PUTRAJAYA999</td>\n",
       "      <td>WTB4W999</td>\n",
       "    </tr>\n",
       "    <tr>\n",
       "      <th>131</th>\n",
       "      <td>BXB848</td>\n",
       "      <td>BXB1B848</td>\n",
       "    </tr>\n",
       "    <tr>\n",
       "      <th>141</th>\n",
       "      <td>ZXZ999</td>\n",
       "      <td>ZK2999</td>\n",
       "    </tr>\n",
       "    <tr>\n",
       "      <th>142</th>\n",
       "      <td>XOCZ9898</td>\n",
       "      <td>KDC7529898</td>\n",
       "    </tr>\n",
       "    <tr>\n",
       "      <th>167</th>\n",
       "      <td>PUTRAJAYA999</td>\n",
       "      <td>WRU1999</td>\n",
       "    </tr>\n",
       "  </tbody>\n",
       "</table>\n",
       "</div>"
      ],
      "text/plain": [
       "           gTruth        pred\n",
       "6    PUTRAJAYA999   PTR04W999\n",
       "19   PUTRAJAYA999    WT8J1999\n",
       "27        CXC6666   C6666CXC6\n",
       "32           BXB8      BXB840\n",
       "35       XOCZ9898   XDC229898\n",
       "47   PUTRAJAYA999    WTRA1999\n",
       "48       XOCZ9898    X0C29898\n",
       "56   PUTRAJAYA999    WRU44999\n",
       "57       XOCZ9898   V898XDC75\n",
       "65       XOCZ9898    X0C29898\n",
       "86        FFA9494     FFA3434\n",
       "93       XOCZ9898    KDCC9898\n",
       "119  PUTRAJAYA999    WTB4W999\n",
       "131        BXB848    BXB1B848\n",
       "141        ZXZ999      ZK2999\n",
       "142      XOCZ9898  KDC7529898\n",
       "167  PUTRAJAYA999     WRU1999"
      ]
     },
     "execution_count": 9,
     "metadata": {},
     "output_type": "execute_result"
    }
   ],
   "source": [
    "result.loc[result.editDistance >= 2, ['gTruth', 'pred']]"
   ]
  },
  {
   "cell_type": "code",
   "execution_count": 20,
   "metadata": {},
   "outputs": [],
   "source": [
    "# save results\n",
    "result.to_csv(\"err_analysis/testset_result.csv\", index=False)\n",
    "result.loc[result.editDistance >= 2, ['gTruth', 'pred']].to_csv(\"err_analysis/testset_high_err.csv\", index=False)"
   ]
  },
  {
   "cell_type": "code",
   "execution_count": 19,
   "metadata": {},
   "outputs": [
    {
     "name": "stdout",
     "output_type": "stream",
     "text": [
      "0    862\n",
      "1    107\n",
      "2     19\n",
      "3     10\n",
      "6      2\n",
      "Name: editDistance, dtype: int64\n"
     ]
    }
   ],
   "source": [
    "print(result.editDistance.value_counts(sort=False))"
   ]
  },
  {
   "cell_type": "code",
   "execution_count": null,
   "metadata": {},
   "outputs": [],
   "source": []
  },
  {
   "cell_type": "markdown",
   "metadata": {},
   "source": [
    "***"
   ]
  },
  {
   "cell_type": "code",
   "execution_count": 24,
   "metadata": {},
   "outputs": [],
   "source": [
    "temp = pd.read_csv(\"err_analysis/siteImg_result.csv\")"
   ]
  },
  {
   "cell_type": "code",
   "execution_count": 25,
   "metadata": {},
   "outputs": [
    {
     "data": {
      "text/plain": [
       "0    149\n",
       "1     40\n",
       "2      6\n",
       "3      2\n",
       "5      2\n",
       "6      2\n",
       "7      1\n",
       "8      3\n",
       "9      1\n",
       "Name: editDistance, dtype: int64"
      ]
     },
     "execution_count": 25,
     "metadata": {},
     "output_type": "execute_result"
    }
   ],
   "source": [
    "temp.editDistance.value_counts(sort=False)"
   ]
  },
  {
   "cell_type": "code",
   "execution_count": 26,
   "metadata": {},
   "outputs": [],
   "source": [
    "temp = pd.read_csv(\"err_analysis/siteImg_result_0.723301.csv\")"
   ]
  },
  {
   "cell_type": "code",
   "execution_count": 27,
   "metadata": {},
   "outputs": [
    {
     "data": {
      "text/plain": [
       "0    149\n",
       "1     40\n",
       "2      7\n",
       "3      2\n",
       "4      1\n",
       "5      1\n",
       "6      2\n",
       "7      1\n",
       "8      3\n",
       "Name: editDistance, dtype: int64"
      ]
     },
     "execution_count": 27,
     "metadata": {},
     "output_type": "execute_result"
    }
   ],
   "source": [
    "temp.editDistance.value_counts(sort=False)"
   ]
  },
  {
   "cell_type": "code",
   "execution_count": null,
   "metadata": {},
   "outputs": [],
   "source": []
  }
 ],
 "metadata": {
  "kernelspec": {
   "display_name": "Python 3",
   "language": "python",
   "name": "python3"
  },
  "language_info": {
   "codemirror_mode": {
    "name": "ipython",
    "version": 3
   },
   "file_extension": ".py",
   "mimetype": "text/x-python",
   "name": "python",
   "nbconvert_exporter": "python",
   "pygments_lexer": "ipython3",
   "version": "3.7.3"
  }
 },
 "nbformat": 4,
 "nbformat_minor": 2
}
