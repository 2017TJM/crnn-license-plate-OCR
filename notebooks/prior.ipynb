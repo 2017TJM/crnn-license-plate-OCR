{
 "cells": [
  {
   "cell_type": "code",
   "execution_count": 1,
   "metadata": {},
   "outputs": [],
   "source": [
    "import os\n",
    "import pickle\n",
    "import collections\n",
    "import string\n",
    "import numpy as np"
   ]
  },
  {
   "cell_type": "code",
   "execution_count": 2,
   "metadata": {},
   "outputs": [],
   "source": [
    "classes = string.ascii_uppercase+string.digits"
   ]
  },
  {
   "cell_type": "code",
   "execution_count": 3,
   "metadata": {},
   "outputs": [],
   "source": [
    "labels = []\n",
    "\n",
    "for file in os.listdir(\"train_data_old/single\") + os.listdir(\"train_data\"):\n",
    "    filename, file_extension = os.path.splitext(file)\n",
    "    gt = filename.split('_')[-1]\n",
    "    labels.append(gt)"
   ]
  },
  {
   "cell_type": "code",
   "execution_count": 4,
   "metadata": {},
   "outputs": [],
   "source": [
    "char_count = {} \n",
    "  \n",
    "for keys in labels: \n",
    "    for c in keys.upper():\n",
    "        char_count[c] = char_count.get(c, 0) + 1"
   ]
  },
  {
   "cell_type": "code",
   "execution_count": 5,
   "metadata": {},
   "outputs": [],
   "source": [
    "prior_dict = {}\n",
    "for c in char_count:\n",
    "    # laplace smoothing\n",
    "    prior_dict[c] = (char_count[c] + 1) / (sum(char_count.values()) + 36)"
   ]
  },
  {
   "cell_type": "code",
   "execution_count": 9,
   "metadata": {},
   "outputs": [],
   "source": [
    "prior_arr = np.array([])\n",
    "for c in classes:\n",
    "    prior_arr = np.append(prior_arr, prior_dict[c])\n",
    "\n",
    "prior_arr = np.append(prior_arr, np.mean(list(prior_dict.values())))"
   ]
  },
  {
   "cell_type": "code",
   "execution_count": 11,
   "metadata": {},
   "outputs": [],
   "source": [
    "with open('prior.pkl', 'wb') as f:\n",
    "    pickle.dump(prior_arr, f)"
   ]
  },
  {
   "cell_type": "code",
   "execution_count": null,
   "metadata": {},
   "outputs": [],
   "source": []
  }
 ],
 "metadata": {
  "kernelspec": {
   "display_name": "Python 3",
   "language": "python",
   "name": "python3"
  },
  "language_info": {
   "codemirror_mode": {
    "name": "ipython",
    "version": 3
   },
   "file_extension": ".py",
   "mimetype": "text/x-python",
   "name": "python",
   "nbconvert_exporter": "python",
   "pygments_lexer": "ipython3",
   "version": "3.7.3"
  }
 },
 "nbformat": 4,
 "nbformat_minor": 2
}
